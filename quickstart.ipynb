{
 "cells": [
  {
   "cell_type": "code",
   "execution_count": 52,
   "metadata": {
    "ExecuteTime": {
     "end_time": "2022-12-06T21:46:56.689591Z",
     "start_time": "2022-12-06T21:46:56.681257Z"
    }
   },
   "outputs": [],
   "source": [
    "import os\n",
    "import sqlalchemy as sql\n",
    "import dbutils\n",
    "from sqlalchemy_schemadisplay import create_schema_graph\n",
    "from sqlalchemy import MetaData\n",
    "from datetime import datetime\n",
    "\n"
   ]
  },
  {
   "cell_type": "code",
   "execution_count": 53,
   "metadata": {
    "ExecuteTime": {
     "end_time": "2022-12-06T21:46:57.144937Z",
     "start_time": "2022-12-06T21:46:57.136761Z"
    }
   },
   "outputs": [
    {
     "data": {
      "text/plain": [
       "'20221206'"
      ]
     },
     "execution_count": 53,
     "metadata": {},
     "output_type": "execute_result"
    }
   ],
   "source": [
    "now = datetime.now() \n",
    "date_time_str = now.strftime(\"%Y%m%d\")\n",
    "date_time_str"
   ]
  },
  {
   "cell_type": "code",
   "execution_count": 54,
   "metadata": {
    "ExecuteTime": {
     "end_time": "2022-12-06T21:46:57.843288Z",
     "start_time": "2022-12-06T21:46:57.835163Z"
    }
   },
   "outputs": [],
   "source": [
    "db_url = \"socotra.int.colorado.edu/dbnascent\"\n",
    "creds = os.path.expanduser('~')+\".mysql_creds\" #this file is one line file that is <username>tab<mysqlpassword>\n",
    "#IT needs to get you a password\n",
    "outdir=\"/Users/allenma/dbnascent_query/\"\n",
    "isExist = os.path.exists(outdir)\n",
    "if not isExist:\n",
    "    os.makedirs(outdir)"
   ]
  },
  {
   "cell_type": "markdown",
   "metadata": {},
   "source": [
    "# draw the whole database"
   ]
  },
  {
   "cell_type": "code",
   "execution_count": 55,
   "metadata": {
    "ExecuteTime": {
     "end_time": "2022-12-06T21:47:00.153550Z",
     "start_time": "2022-12-06T21:47:00.146564Z"
    }
   },
   "outputs": [],
   "source": [
    "metadata = MetaData(\"mysql+pymysql://\" + str(cred[0]) + \":\"\n",
    "                                            + str(cred[1].split(\"\\n\")[0])\n",
    "                                            + \"@\" + db_url)"
   ]
  },
  {
   "cell_type": "code",
   "execution_count": 56,
   "metadata": {
    "ExecuteTime": {
     "end_time": "2022-12-06T21:47:01.571978Z",
     "start_time": "2022-12-06T21:47:00.912107Z"
    }
   },
   "outputs": [],
   "source": [
    "graph = create_schema_graph(metadata=metadata)\n",
    "graph.write_png(outdir+'nascentdb_erd_'+date_time_str+'.png')"
   ]
  },
  {
   "cell_type": "markdown",
   "metadata": {
    "ExecuteTime": {
     "end_time": "2022-12-06T20:22:13.437593Z",
     "start_time": "2022-12-06T20:22:13.433276Z"
    }
   },
   "source": [
    "# open a engine to the databse and then ask it questions abotu the database"
   ]
  },
  {
   "cell_type": "code",
   "execution_count": 57,
   "metadata": {
    "ExecuteTime": {
     "end_time": "2022-12-06T21:47:04.332710Z",
     "start_time": "2022-12-06T21:47:04.281092Z"
    }
   },
   "outputs": [],
   "source": [
    "\n",
    "with open(creds) as f:\n",
    "        cred = next(f).split('\\t')\n",
    "engine = sql.create_engine(\"mysql+pymysql://\" + str(cred[0]) + \":\"\n",
    "                                            + str(cred[1].split(\"\\n\")[0])\n",
    "                                            + \"@\" + db_url, echo=False)"
   ]
  },
  {
   "cell_type": "code",
   "execution_count": 58,
   "metadata": {
    "ExecuteTime": {
     "end_time": "2022-12-06T21:47:05.851142Z",
     "start_time": "2022-12-06T21:47:05.784267Z"
    }
   },
   "outputs": [],
   "source": [
    "def printtables():\n",
    "    with engine.connect() as connection:\n",
    "        results = connection.execute(\"SHOW TABLES\")\n",
    "        for result in results:\n",
    "            print (result)\n",
    "            \n",
    "def printtablecolumns(table):\n",
    "    with engine.connect() as connection:\n",
    "        results = connection.execute(\"DESCRIBE \"+table)\n",
    "        for result in results:\n",
    "            print (result)\n",
    "            \n",
    "def printdistinctoptionsfromtablecolumn(table, column):\n",
    "    with engine.connect() as connection:\n",
    "        results = connection.execute(\"Select DISTINCT \"+column+\" FROM \"+table)\n",
    "        for result in results:\n",
    "            print (result)"
   ]
  },
  {
   "cell_type": "code",
   "execution_count": 59,
   "metadata": {
    "ExecuteTime": {
     "end_time": "2022-12-06T21:47:06.368669Z",
     "start_time": "2022-12-06T21:47:06.332304Z"
    }
   },
   "outputs": [
    {
     "name": "stdout",
     "output_type": "stream",
     "text": [
      "('bidirSummary',)\n",
      "('bidirflowMetadata',)\n",
      "('conditionInfo',)\n",
      "('exptMetadata',)\n",
      "('geneticInfo',)\n",
      "('linkIDs',)\n",
      "('nascentflowMetadata',)\n",
      "('organismInfo',)\n",
      "('sampleAccum',)\n",
      "('sampleBidirflow',)\n",
      "('sampleCondition',)\n",
      "('sampleID',)\n",
      "('sampleNascentflow',)\n",
      "('searchEquiv',)\n",
      "('tissueDetails',)\n"
     ]
    }
   ],
   "source": [
    "printtables()"
   ]
  },
  {
   "cell_type": "code",
   "execution_count": 60,
   "metadata": {
    "ExecuteTime": {
     "end_time": "2022-12-06T21:47:07.077023Z",
     "start_time": "2022-12-06T21:47:07.059381Z"
    }
   },
   "outputs": [
    {
     "name": "stdout",
     "output_type": "stream",
     "text": [
      "('sample_id', 'int', 'NO', 'PRI', None, '')\n",
      "('replicate', 'varchar(50)', 'YES', '', None, '')\n",
      "('single_paired', 'varchar(50)', 'YES', '', None, '')\n",
      "('rcomp', 'tinyint(1)', 'YES', '', None, '')\n",
      "('unusable', 'tinyint(1)', 'YES', '', None, '')\n",
      "('timecourse', 'tinyint(1)', 'YES', '', None, '')\n",
      "('control_experimental', 'varchar(50)', 'YES', '', None, '')\n",
      "('outlier', 'tinyint(1)', 'YES', '', None, '')\n",
      "('notes', 'varchar(300)', 'YES', '', None, '')\n",
      "('processing_notes', 'varchar(300)', 'YES', '', None, '')\n",
      "('raw_read_depth', 'int', 'YES', '', None, '')\n",
      "('trim_read_depth', 'int', 'YES', '', None, '')\n",
      "('raw_read_length', 'int', 'YES', '', None, '')\n",
      "('duplication_picard', 'float', 'YES', '', None, '')\n",
      "('single_map', 'int', 'YES', '', None, '')\n",
      "('multi_map', 'int', 'YES', '', None, '')\n",
      "('map_prop', 'float', 'YES', '', None, '')\n",
      "('rseqc_tags', 'int', 'YES', '', None, '')\n",
      "('rseqc_cds', 'int', 'YES', '', None, '')\n",
      "('rseqc_five_utr', 'int', 'YES', '', None, '')\n",
      "('rseqc_three_utr', 'int', 'YES', '', None, '')\n",
      "('rseqc_intron', 'int', 'YES', '', None, '')\n",
      "('cds_rpk', 'float', 'YES', '', None, '')\n",
      "('intron_rpk', 'float', 'YES', '', None, '')\n",
      "('exint_ratio', 'float', 'YES', '', None, '')\n",
      "('distinct_tenmillion_prop', 'float', 'YES', '', None, '')\n",
      "('genome_prop_cov', 'float', 'YES', '', None, '')\n",
      "('avg_fold_cov', 'float', 'YES', '', None, '')\n",
      "('samp_qc_score', 'int', 'YES', '', None, '')\n",
      "('samp_data_score', 'int', 'YES', '', None, '')\n"
     ]
    }
   ],
   "source": [
    "printtablecolumns(\"sampleAccum\")"
   ]
  },
  {
   "cell_type": "code",
   "execution_count": 61,
   "metadata": {
    "ExecuteTime": {
     "end_time": "2022-12-06T21:47:07.803429Z",
     "start_time": "2022-12-06T21:47:07.792670Z"
    }
   },
   "outputs": [
    {
     "name": "stdout",
     "output_type": "stream",
     "text": [
      "('experimental',)\n",
      "('control',)\n",
      "('',)\n"
     ]
    }
   ],
   "source": [
    "column =\"control_experimental\"\n",
    "table = \"sampleAccum\"\n",
    "printdistinctoptionsfromtablecolumn(table, column)"
   ]
  },
  {
   "cell_type": "code",
   "execution_count": null,
   "metadata": {},
   "outputs": [],
   "source": []
  },
  {
   "cell_type": "code",
   "execution_count": null,
   "metadata": {},
   "outputs": [],
   "source": []
  }
 ],
 "metadata": {
  "kernelspec": {
   "display_name": "Python 3 (ipykernel)",
   "language": "python",
   "name": "python3"
  },
  "language_info": {
   "codemirror_mode": {
    "name": "ipython",
    "version": 3
   },
   "file_extension": ".py",
   "mimetype": "text/x-python",
   "name": "python",
   "nbconvert_exporter": "python",
   "pygments_lexer": "ipython3",
   "version": "3.6.8"
  },
  "toc": {
   "base_numbering": 1,
   "nav_menu": {},
   "number_sections": true,
   "sideBar": true,
   "skip_h1_title": false,
   "title_cell": "Table of Contents",
   "title_sidebar": "Contents",
   "toc_cell": false,
   "toc_position": {},
   "toc_section_display": true,
   "toc_window_display": false
  }
 },
 "nbformat": 4,
 "nbformat_minor": 2
}
